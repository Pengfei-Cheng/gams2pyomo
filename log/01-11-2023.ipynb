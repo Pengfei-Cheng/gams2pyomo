{
 "cells": [
  {
   "attachments": {},
   "cell_type": "markdown",
   "metadata": {},
   "source": [
    "# Log 01-10-2023"
   ]
  },
  {
   "attachments": {},
   "cell_type": "markdown",
   "metadata": {},
   "source": [
    "## TODOs\n",
    "\n",
    "- [x] test other cases\n",
    "- [x] list reliable gams file sources\n",
    "    - its own library should be enough\n",
    "- [ ] better handle exceptions"
   ]
  },
  {
   "cell_type": "markdown",
   "metadata": {},
   "source": [
    "## Observations"
   ]
  },
  {
   "attachments": {},
   "cell_type": "markdown",
   "metadata": {},
   "source": [
    "### 14:57 compiler_variable\n",
    "- `%gamsfolder%`\n",
    "- `%modeltype%`"
   ]
  },
  {
   "attachments": {},
   "cell_type": "markdown",
   "metadata": {},
   "source": [
    "## Code"
   ]
  },
  {
   "cell_type": "code",
   "execution_count": 7,
   "metadata": {},
   "outputs": [
    {
     "name": "stderr",
     "output_type": "stream",
     "text": [
      "WARNING:gams_translator.transformer:{('seattle', 'new-york'): 2.5, ('seattle', 'chicago'): 1.7, ('seattle', 'topeka'): 1.8, ('san-diego', 'new-york'): 2.5, ('san-diego', 'chicago'): 1.8, ('san-diego', 'topeka'): 1.4}\n",
      "WARNING:gams_translator.components:Not supported suffix type for display: '.m'\n"
     ]
    }
   ],
   "source": [
    "from gams2pyomo import GAMSTranslator\n",
    "\n",
    "f = './test/gams_model_library/trnsport.gms'\n",
    "\n",
    "gp = GAMSTranslator(f)\n",
    "\n",
    "tree = gp.parse()\n",
    "with open('tmp/tree', 'w') as file:\n",
    "    file.write(tree.pretty())\n",
    "\n",
    "res = gp.transform()\n",
    "with open('tmp/debug.py', 'w') as file:\n",
    "    file.write(res)"
   ]
  },
  {
   "cell_type": "code",
   "execution_count": 2,
   "metadata": {},
   "outputs": [
    {
     "name": "stdout",
     "output_type": "stream",
     "text": [
      "Academic license - for non-commercial use only - expires 2023-12-11\n",
      "Using license file /Users/pengfeicheng/gurobi.lic\n",
      "Read LP format model from file /var/folders/02/59xf2rz134l9w97kw2rhkmch0000gn/T/tmpz3hmbmj5.pyomo.lp\n",
      "Reading time = 0.00 seconds\n",
      "x8: 7 rows, 8 columns, 20 nonzeros\n",
      "Gurobi Optimizer version 9.1.2 build v9.1.2rc0 (mac64[rosetta2])\n",
      "Thread count: 8 physical cores, 8 logical processors, using up to 8 threads\n",
      "Optimize a model with 7 rows, 8 columns and 20 nonzeros\n",
      "Model fingerprint: 0xcbe7d830\n",
      "Coefficient statistics:\n",
      "  Matrix range     [1e-01, 1e+00]\n",
      "  Objective range  [1e+00, 1e+00]\n",
      "  Bounds range     [0e+00, 0e+00]\n",
      "  RHS range        [1e+00, 6e+02]\n",
      "Presolve removed 2 rows and 2 columns\n",
      "Presolve time: 0.00s\n",
      "Presolved: 5 rows, 6 columns, 12 nonzeros\n",
      "\n",
      "Iteration    Objective       Primal Inf.    Dual Inf.      Time\n",
      "       0    0.0000000e+00   1.125000e+02   0.000000e+00      0s\n",
      "       3    1.5367500e+02   0.000000e+00   0.000000e+00      0s\n",
      "\n",
      "Solved in 3 iterations and 0.01 seconds\n",
      "Optimal objective  1.536750000e+02\n",
      "x : shipment quantities in cases\n",
      "    Size=6, Index=x_index\n",
      "    Key                       : Lower : Value : Upper : Fixed : Stale : Domain\n",
      "     ('san-diego', 'chicago') :     0 :   0.0 :  None : False : False : NonNegativeReals\n",
      "    ('san-diego', 'new-york') :     0 : 325.0 :  None : False : False : NonNegativeReals\n",
      "      ('san-diego', 'topeka') :     0 : 275.0 :  None : False : False : NonNegativeReals\n",
      "       ('seattle', 'chicago') :     0 : 300.0 :  None : False : False : NonNegativeReals\n",
      "      ('seattle', 'new-york') :     0 :   0.0 :  None : False : False : NonNegativeReals\n",
      "        ('seattle', 'topeka') :     0 :   0.0 :  None : False : False : NonNegativeReals\n"
     ]
    }
   ],
   "source": [
    "from pyomo.environ import *\n",
    "import math\n",
    "\n",
    "\n",
    "m = ConcreteModel()\n",
    "options = {}\n",
    "\n",
    "\n",
    "\"\"\"This problem finds a least cost shipping schedule that meets\n",
    "requirements at markets and supplies at factories.\n",
    "\n",
    "\n",
    "Dantzig, G B, Chapter 3.3. In Linear Programming and Extensions.\n",
    "Princeton University Press, Princeton, New Jersey, 1963.\n",
    "\n",
    "This formulation is described in detail in:\n",
    "Rosenthal, R E, Chapter 2: A GAMS Tutorial. In GAMS: A User's Guide.\n",
    "The Scientific Press, Redwood City, California, 1988.\n",
    "\n",
    "The line numbers will not match those in the book because of these\n",
    "comments.\n",
    "\n",
    "Keywords: linear programming, transportation problem, scheduling\n",
    "\"\"\"\n",
    "\n",
    "m.I = Set(initialize=['seattle', 'san-diego'], ordered=True, doc='canning plants')\n",
    "m.J = Set(initialize=['new-york', 'chicago', 'topeka'], ordered=True, doc='markets')\n",
    "m.a = Param(m.I, mutable=True, initialize={'seattle': 350, 'san-diego': 600}, doc='capacity of plant i in cases')\n",
    "m.b = Param(m.J, mutable=True, initialize={'new-york': 325, 'chicago': 300, 'topeka': 275}, doc='demand at market j in cases')\n",
    "m.d = Param(m.I, m.J, mutable=True, initialize={('seattle', 'new-york'): 2.5, ('seattle', 'chicago'): 1.7, ('seattle', 'topeka'): 1.8, ('san-diego', 'new-york'): 2.5, ('san-diego', 'chicago'): 1.8, ('san-diego', 'topeka'): 1.4}, doc='distance in thousands of miles')\n",
    "m.f = Param(mutable=True, initialize=90, doc='freight in dollars per case per thousand miles')\n",
    "m.c = Param(m.I, m.J, mutable=True, doc='transport cost in thousands of dollars per case')\n",
    "for i in m.I:\n",
    "\tfor j in m.J:\n",
    "\t\tm.c[i, j] = (m.f * m.d[i, j]) / 1000\n",
    "m.x = Var(m.I, m.J, doc='shipment quantities in cases')\n",
    "m.z = Var(doc='total transportation costs in thousands of dollars')\n",
    "m.x.domain = NonNegativeReals\n",
    "def cost(m):\n",
    "\treturn m.z == sum((m.c[i, j] * m.x[i, j]) for i in m.I for j in m.J)\n",
    "m.cost = Constraint(rule=cost)\n",
    "def supply(m, i):\n",
    "\treturn sum(m.x[i, j] for j in m.J) <= m.a[i]\n",
    "m.supply = Constraint(m.I, rule=supply)\n",
    "def demand(m, j):\n",
    "\treturn sum(m.x[i, j] for i in m.I) >= m.b[j]\n",
    "m.demand = Constraint(m.J, rule=demand)\n",
    "m._obj_ = Objective(rule=m.z, sense=1)\n",
    "opt = SolverFactory('gurobi')\n",
    "opt.solve(m, tee=True)\n",
    "m.x.pprint()\n"
   ]
  },
  {
   "cell_type": "code",
   "execution_count": null,
   "metadata": {},
   "outputs": [],
   "source": [
    "m.d"
   ]
  },
  {
   "cell_type": "code",
   "execution_count": 5,
   "metadata": {},
   "outputs": [
    {
     "name": "stdout",
     "output_type": "stream",
     "text": [
      "d : distance in thousands of miles\n",
      "    Size=4, Index=d_index, Domain=Any, Default=None, Mutable=True\n",
      "    Key                       : Value\n",
      "     ('san-diego', 'chicago') : 1.8\n",
      "    ('san-diego', 'new-york') : 2.5\n",
      "      ('san-diego', 'topeka') : 1.4\n",
      "      ('seattle', 'new-york') : <class 'pyomo.core.base.param.Param.NoValue'>\n"
     ]
    }
   ],
   "source": [
    "m.d.pprint()"
   ]
  }
 ],
 "metadata": {
  "kernelspec": {
   "display_name": "env",
   "language": "python",
   "name": "python3"
  },
  "language_info": {
   "codemirror_mode": {
    "name": "ipython",
    "version": 3
   },
   "file_extension": ".py",
   "mimetype": "text/x-python",
   "name": "python",
   "nbconvert_exporter": "python",
   "pygments_lexer": "ipython3",
   "version": "3.8.8 (default, Apr 13 2021, 12:59:45) \n[Clang 10.0.0 ]"
  },
  "orig_nbformat": 4,
  "vscode": {
   "interpreter": {
    "hash": "46a1e8ecdb898e9650f579cbd42d692c15b454f20ecd41658bdf8f03714ca2fc"
   }
  }
 },
 "nbformat": 4,
 "nbformat_minor": 2
}
