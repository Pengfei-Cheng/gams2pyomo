{
 "cells": [
  {
   "attachments": {},
   "cell_type": "markdown",
   "metadata": {},
   "source": [
    "# Log 01-05-2023"
   ]
  },
  {
   "attachments": {},
   "cell_type": "markdown",
   "metadata": {},
   "source": [
    "## TODOs\n",
    "- [x] list existing transformer methods\n",
    "- [ ] list what need to be added\n",
    "- [ ] develop Model to PyomoModel\n",
    "- [ ] learn about the original lark tree structure"
   ]
  },
  {
   "attachments": {},
   "cell_type": "markdown",
   "metadata": {},
   "source": [
    "## Observations"
   ]
  },
  {
   "attachments": {},
   "cell_type": "markdown",
   "metadata": {},
   "source": [
    "### 11:12 Existing methods\n",
    "- string\n",
    "- value\n",
    "- symbol_name\n",
    "- definition\n",
    "- model_definition\n",
    "- solve_statement\n",
    "- assignment\n",
    "- symbol_definition (taken care of by the aliases for each possibility)\n",
    "    - index_list\n",
    "    - set_list\n",
    "    - parameter_list\n",
    "    - scalar_list\n",
    "    - equation_list\n",
    "    - table_list\n",
    "    - b_variable_list\n",
    "    - p_variable_list\n",
    "    - variable_list"
   ]
  },
  {
   "attachments": {},
   "cell_type": "markdown",
   "metadata": {},
   "source": [
    "### What do I need to build methods to?\n",
    "terminal/rule???\n",
    "- seems to be rule\n",
    "\n",
    "### Needed\n",
    "- from statement\n",
    "    - [x] option_setting\n",
    "    - [x] if_statement\n",
    "    - [x] loop_statement\n",
    "    - [x] abort_statement\n",
    "    - macro?\n",
    "    - display?\n",
    "    - macro_conditional?\n",
    "        - macro_condition\n",
    "        - negate\n",
    "- expression??"
   ]
  },
  {
   "attachments": {},
   "cell_type": "markdown",
   "metadata": {},
   "source": [
    "### Lark tree structure\n",
    "\n",
    "basically it has two attributes:\n",
    "- `data`: its type in the grammar\n",
    "- `children`: its leaves; either Tree or Token (leaves?)\n",
    "\n",
    "https://lark-parser.readthedocs.io/en/latest/visitors.html#transformer"
   ]
  },
  {
   "attachments": {},
   "cell_type": "markdown",
   "metadata": {},
   "source": [
    "### 20:37\n",
    "\n",
    "Hmm, cannot process the if statement because *the transformer method was not implemented*\n",
    "- I only finished the model classes"
   ]
  },
  {
   "attachments": {},
   "cell_type": "markdown",
   "metadata": {},
   "source": [
    "### 20:43 workflow\n",
    "\n",
    "1. design a class for storing the statement\n",
    "2. add a method in transformer\n",
    "3. add a method in Model\n",
    "3. add an if-statement in the transformer`.start()`\n",
    "4. for children that you don't know if it is taken care of, try to check other statements involving it"
   ]
  },
  {
   "attachments": {},
   "cell_type": "markdown",
   "metadata": {},
   "source": [
    "### 21:18 conditional\n",
    "- assignment: dropped?\n",
    "- equation: dropped?"
   ]
  },
  {
   "attachments": {},
   "cell_type": "markdown",
   "metadata": {},
   "source": [
    "### 21:19 `?rule`\n",
    "- so that the rule will not become a tree; the whole tree structure is flattened\n",
    "- no need to define a method in transformer; also no need to store them; but to store the rules on the RHS"
   ]
  },
  {
   "attachments": {},
   "cell_type": "markdown",
   "metadata": {},
   "source": [
    "### (01-06) 21:23 New workflow\n",
    "- you do not even need a Model class for temporarily storing anything\n",
    "- you can create a single model and then duplicate it for model statement; and then deactivate constraints\n",
    "    - by thinking about how gams works itself\n",
    "- and create subclasses for definitions, and add extra code for creating sets, params, etc in Pyomo\n",
    "- or **DIRECTLY write string**"
   ]
  },
  {
   "attachments": {},
   "cell_type": "markdown",
   "metadata": {},
   "source": [
    "## Code"
   ]
  },
  {
   "attachments": {},
   "cell_type": "markdown",
   "metadata": {},
   "source": [
    "### study the lark tree"
   ]
  },
  {
   "cell_type": "code",
   "execution_count": 1,
   "metadata": {},
   "outputs": [],
   "source": [
    "from gams2pyomo import GamsParser\n",
    "\n",
    "# f = './test/gams_basic/variable/binary_v.gms'\n",
    "# f = './test/gams_basic/assignment/basic.gms'\n",
    "# f = './test/gams_basic/misc/options.gms'\n",
    "# f = './test/gams_basic/flow_control/if-single.gms'\n",
    "# f = './test/gams_basic/flow_control/if-elseif-else.gms'\n",
    "# f = './test/gams_basic/flow_control/loop.gms'\n",
    "# f = './test/gams_basic/flow_control/abort.gms'\n",
    "f = './test/gams_real_problem/tanksize2.gms'\n",
    "\n",
    "with open(f, 'r') as in_file:\n",
    "    gp = GamsParser(in_file)\n",
    "\n",
    "# parse_tree = gp.parse()\n",
    "\n",
    "# print(parse_tree.pretty())\n",
    "# parse_tree.__dict__\n",
    "# parse_tree.children[0].data\n",
    "\n",
    "# model = gp.transform()"
   ]
  },
  {
   "cell_type": "code",
   "execution_count": 2,
   "metadata": {},
   "outputs": [],
   "source": [
    "from gams2pyomo.transformer import TreeToModel\n",
    "parse_tree = gp.parse()\n",
    "transformer = TreeToModel()\n",
    "model = transformer.transform(parse_tree)"
   ]
  },
  {
   "cell_type": "code",
   "execution_count": 3,
   "metadata": {},
   "outputs": [
    {
     "data": {
      "text/plain": [
       "[('LIMROW', '0'),\n",
       " ('LIMCOL', '0'),\n",
       " ('OPTCA', '1E-09'),\n",
       " ('OPTCR', '1E-03'),\n",
       " ('RESLIM', '1E+04'),\n",
       " ('ITERLIM', '1E+09'),\n",
       " ('LP', 'CPLEX'),\n",
       " ('NLP', 'SNOPT'),\n",
       " ('MIP', 'CPLEX'),\n",
       " ('MINLP', 'SCIP'),\n",
       " [[set] __p__ \"\"products\"\" Tree('data', [Tree('symbol_range', [Token('INTEGER', '1'), Token('INTEGER', '3')])]),\n",
       "  [set] __n__ \"\"event points\"\" Tree('data', [Tree('symbol_range', [Token('INTEGER', '1'), Token('INTEGER', '3')])]),\n",
       "  [set] __h__ \"\"number of scenarios\"\" Tree('data', [Tree('symbol_range', [Token('INTEGER', '1'), Token('INTEGER', '2')])]),\n",
       "  [set] __subh__ \"\"num. realizations per uncertain param\"\" Tree('data', [Tree('symbol_range', [Token('INTEGER', '1'), Token('INTEGER', '2')])])],\n",
       " [(subh,subh2,subh3)],\n",
       " [(p,pp)],\n",
       " [[scalar] __VariableInvestmentCostFactor__ \"\"variable part of the tank investment cost\"\" Tree('data', [Tree('symbol_id', [Tree('symbol_id', [Token('INTEGER', '0')]), Token('INTEGER', '3271')])]),\n",
       "  [scalar] __NumDaysInYear__ \"\"number of days in a year\"\" Tree('data', [Tree('symbol_id', [Token('INTEGER', '365')])])],\n",
       " [[parameter] __MinProductionRate[Token('WORD_IDENTIFIER', 'p')]__ \"\"lower bound on the production rate in m^3/day\"\" Tree('data', [Tree('data_value', [Tree('symbol_id', [Token('INTEGER', '1')]), 15.0]), Tree('data_value', [Tree('symbol_id', [Token('INTEGER', '2')]), 15.0]), Tree('data_value', [Tree('symbol_id', [Token('INTEGER', '3')]), 7.0])]),\n",
       "  [parameter] __MaxProductionRate[Token('WORD_IDENTIFIER', 'p')]__ \"\"upper bound on the production rate in m^3/day\"\" Tree('data', [Tree('data_value', [Tree('symbol_id', [Token('INTEGER', '1')]), 50.0]), Tree('data_value', [Tree('symbol_id', [Token('INTEGER', '2')]), 50.0]), Tree('data_value', [Tree('symbol_id', [Token('INTEGER', '3')]), 50.0])]),\n",
       "  [parameter] __InventoryLowerBound[Token('WORD_IDENTIFIER', 'p')]__ \"\"lower bound on inventory in m^3\"\" Tree('data', [Tree('data_value', [Tree('symbol_id', [Token('INTEGER', '1')]), 643.0]), Tree('data_value', [Tree('symbol_id', [Token('INTEGER', '2')]), 536.0]), Tree('data_value', [Tree('symbol_id', [Token('INTEGER', '3')]), 214.0])]),\n",
       "  [parameter] __InventoryUpperBound[Token('WORD_IDENTIFIER', 'p')]__ \"\"upper bound on inventory in m^3\"\" Tree('data', [Tree('data_value', [Tree('symbol_id', [Token('INTEGER', '1')]), 4018.36]), Tree('data_value', [Tree('symbol_id', [Token('INTEGER', '2')]), 3348.63]), Tree('data_value', [Tree('symbol_id', [Token('INTEGER', '3')]), 1339.45])]),\n",
       "  [parameter] __InitialInventory[Token('WORD_IDENTIFIER', 'p')]__ \"\"initial inventory in m^3\"\",\n",
       "  [parameter] __ProductionLength_lower[Token('WORD_IDENTIFIER', 'p')]__ \"\"lower bound on production length\"\" Tree('data', [Tree('data_value', [Tree('symbol_id', [Token('INTEGER', '1')]), 1.0]), Tree('data_value', [Tree('symbol_id', [Token('INTEGER', '2')]), 1.0]), Tree('data_value', [Tree('symbol_id', [Token('INTEGER', '3')]), 1.0])]),\n",
       "  [parameter] __ProductionLength_upper[Token('WORD_IDENTIFIER', 'p')]__ \"\"upper bound on production length\"\" Tree('data', [Tree('data_value', [Tree('symbol_id', [Token('INTEGER', '1')]), 10.0]), Tree('data_value', [Tree('symbol_id', [Token('INTEGER', '2')]), 10.0]), Tree('data_value', [Tree('symbol_id', [Token('INTEGER', '3')]), 10.0])]),\n",
       "  [parameter] __ProductDemand_nominal[Token('WORD_IDENTIFIER', 'p')]__ \"\"nominal demand of product in m^3/year\"\" Tree('data', [Tree('data_value', [Tree('symbol_id', [Token('INTEGER', '1')]), 4190.0]), Tree('data_value', [Tree('symbol_id', [Token('INTEGER', '2')]), 3492.0]), Tree('data_value', [Tree('symbol_id', [Token('INTEGER', '3')]), 1397.0])]),\n",
       "  [parameter] __ProductDemand_stdev[Token('WORD_IDENTIFIER', 'p')]__ \"\"standard deviation of demand of product in m^3/year\"\",\n",
       "  [parameter] __ProductDemand[Token('WORD_IDENTIFIER', 'p'), Token('WORD_IDENTIFIER', 'h')]__ \"\"demand of product in m^3/year\"\",\n",
       "  [parameter] __CampaignSetupTime[Token('WORD_IDENTIFIER', 'p')]__ \"\"campaign setup time in days\"\" Tree('data', [Tree('data_value', [Tree('symbol_id', [Token('INTEGER', '1')]), 0.4]), Tree('data_value', [Tree('symbol_id', [Token('INTEGER', '2')]), 0.2]), Tree('data_value', [Tree('symbol_id', [Token('INTEGER', '3')]), 0.1])]),\n",
       "  [parameter] __CampaignVariableCost[Token('WORD_IDENTIFIER', 'p')]__ \"\"tank variable cost per ton\"\" Tree('data', [Tree('data_value', [Tree('symbol_id', [Token('INTEGER', '1')]), 18.8304]), Tree('data_value', [Tree('symbol_id', [Token('INTEGER', '2')]), 19.2934]), Tree('data_value', [Tree('symbol_id', [Token('INTEGER', '3')]), 19.7563])]),\n",
       "  [parameter] __CampaignSetupCost[Token('WORD_IDENTIFIER', 'p')]__ \"\"campaign setup cost\"\" Tree('data', [Tree('data_value', [Tree('symbol_id', [Token('INTEGER', '1')]), 10.0]), Tree('data_value', [Tree('symbol_id', [Token('INTEGER', '2')]), 20.0]), Tree('data_value', [Tree('symbol_id', [Token('INTEGER', '3')]), 30.0])]),\n",
       "  [parameter] __prob[Token('WORD_IDENTIFIER', 'h')]__ \"\"probability of each scenario\"\",\n",
       "  [parameter] __subprob[Token('WORD_IDENTIFIER', 'subh')]__ \"\"probability for each individual uncertain realization\"\"],\n",
       " <assignment n_symbols=3>,\n",
       " <assignment n_symbols=2>,\n",
       " <assignment n_symbols=2>,\n",
       " <assignment n_symbols=2>,\n",
       " <assignment n_symbols=4>,\n",
       " Tree('if_statement', [Tree('expression', [Tree('func_expression', [Tree('fn_card', []), Tree('symbol', [__h__])]), Tree('rel_eq', []), Tree('symbol', [__1__])]), <assignment n_symbols=3>, Tree('elseif_statement', [Tree('expression', [Tree('func_expression', [Tree('fn_card', []), Tree('symbol', [__h__])]), Tree('rel_eq', []), Tree('func_expression', [Tree('fn_card', []), Tree('symbol', [__subh__])])]), <assignment n_symbols=4>, <assignment n_symbols=4>, <assignment n_symbols=4>, Tree('loop_statement', [__subh__, <assignment n_symbols=4>, <assignment n_symbols=8>])]), Tree('elseif_statement', [Tree('expression', [Tree('expression', [Tree('func_expression', [Tree('fn_card', []), Tree('symbol', [__h__])]), Tree('rel_eq', []), Tree('func_expression', [Tree('fn_card', []), Tree('symbol', [__subh__])])]), Tree('multiplication', []), Tree('func_expression', [Tree('fn_card', []), Tree('symbol', [__subh__])])]), <assignment n_symbols=4>, <assignment n_symbols=4>, <assignment n_symbols=4>, Tree('loop_statement', [__subh__, Tree('loop_statement', [__subh2__, <assignment n_symbols=6>, <assignment n_symbols=9>, <assignment n_symbols=9>])])]), Tree('elseif_statement', [Tree('expression', [Tree('expression', [Tree('func_expression', [Tree('fn_card', []), Tree('symbol', [__h__])]), Tree('rel_eq', []), Tree('func_expression', [Tree('fn_card', []), Tree('symbol', [__subh__])])]), Tree('multiplication', []), Tree('expression', [Tree('func_expression', [Tree('fn_card', []), Tree('symbol', [__subh__])]), Tree('multiplication', []), Tree('func_expression', [Tree('fn_card', []), Tree('symbol', [__subh__])])])]), <assignment n_symbols=4>, <assignment n_symbols=4>, <assignment n_symbols=4>, Tree('loop_statement', [__subh__, Tree('loop_statement', [__subh2__, Tree('loop_statement', [__subh3__, <assignment n_symbols=7>, <assignment n_symbols=10>, <assignment n_symbols=10>, <assignment n_symbols=10>])])])]), Tree('else_statement', [Tree('abort_statement', [Tree('description', [Token('FLEX_ESCAPED_STRING', '\"ERROR in setting the number of scenarios! Try again\"')])])])]),\n",
       " [[parameter] __DemandPerDay[Token('WORD_IDENTIFIER', 'p'), Token('WORD_IDENTIFIER', 'h')]__ \"\"demand/day/product [tons/day]\"\",\n",
       "  [parameter] __TotalDemandPerDay[Token('WORD_IDENTIFIER', 'h')]__ \"\"total demand/day [tons/day]\"\"],\n",
       " <assignment n_symbols=5>,\n",
       " <assignment n_symbols=4>,\n",
       " <assignment n_symbols=3>,\n",
       " [[p_variable] __campaignDuration[Token('WORD_IDENTIFIER', 'n'), Token('WORD_IDENTIFIER', 'h')]__ \"\"duration of the campaigns\"\",\n",
       "  [p_variable] __amtProductInCampaign[Token('WORD_IDENTIFIER', 'p'), Token('WORD_IDENTIFIER', 'n'), Token('WORD_IDENTIFIER', 'h')]__ \"\"amount of product p produced in campaign n\"\",\n",
       "  [p_variable] __productInventory[Token('WORD_IDENTIFIER', 'p'), Token('WORD_IDENTIFIER', 'n'), Token('WORD_IDENTIFIER', 'h')]__ \"\"amount of product p stored at the beginning of campaign n\"\",\n",
       "  [p_variable] __productTankSize[Token('WORD_IDENTIFIER', 'p')]__ \"\"size of the product tanks in tons\"\",\n",
       "  [p_variable] __auxiliaryVariable[Token('WORD_IDENTIFIER', 'p'), Token('WORD_IDENTIFIER', 'n'), Token('WORD_IDENTIFIER', 'h')]__ \"\"auxiliary variables\"\",\n",
       "  [p_variable] __investmentCost[Token('WORD_IDENTIFIER', 'h')]__ \"\"investment costs\"\",\n",
       "  [p_variable] __setupCost[Token('WORD_IDENTIFIER', 'h')]__ \"\"campaign setup costs\"\",\n",
       "  [p_variable] __variableCost[Token('WORD_IDENTIFIER', 'h')]__ \"\"variable storage costs\"\",\n",
       "  [p_variable] __cycleTime[Token('WORD_IDENTIFIER', 'h')]__ \"\"cycle time\"\",\n",
       "  [p_variable] __costPerTon[Token('WORD_IDENTIFIER', 'h')]__ \"\"cost per ton\"\",\n",
       "  [p_variable] __campaignLength[Token('WORD_IDENTIFIER', 'n'), Token('WORD_IDENTIFIER', 'h')]__ \"\"campaignLength is campaignDuration + setuptime \"\"],\n",
       " [[b_variable] __assignProductToCampaign[Token('WORD_IDENTIFIER', 'p'), Token('WORD_IDENTIFIER', 'n'), Token('WORD_IDENTIFIER', 'h')]__ \"\"binary variable mapping product to campaign\"\"],\n",
       " [[variable] __objvar__ \"\"objective function\"\"],\n",
       " [[equation] __TimeCapacity[Token('WORD_IDENTIFIER', 'h')]__ \"\"time capacity\"\",\n",
       "  [equation] __UniqueProduct[Token('WORD_IDENTIFIER', 'n'), Token('WORD_IDENTIFIER', 'h')]__ \"\"at most one product per campaign\"\",\n",
       "  [equation] __MaterialBalance[Token('WORD_IDENTIFIER', 'p'), Token('WORD_IDENTIFIER', 'n'), Token('WORD_IDENTIFIER', 'h')]__ \"\"material balance constraint (steady state)\"\",\n",
       "  [equation] __TankCapacity[Token('WORD_IDENTIFIER', 'p'), Token('WORD_IDENTIFIER', 'n'), Token('WORD_IDENTIFIER', 'h')]__ \"\"tank capacity constraint\"\",\n",
       "  [equation] __ProductionUpperBound1[Token('WORD_IDENTIFIER', 'p'), Token('WORD_IDENTIFIER', 'n'), Token('WORD_IDENTIFIER', 'h')]__ \"\"upper bound for product\"\",\n",
       "  [equation] __ProductionLowerBound1[Token('WORD_IDENTIFIER', 'p'), Token('WORD_IDENTIFIER', 'n'), Token('WORD_IDENTIFIER', 'h')]__ \"\"lower bound for product\"\",\n",
       "  [equation] __ProductionUpperBound2[Token('WORD_IDENTIFIER', 'p'), Token('WORD_IDENTIFIER', 'n'), Token('WORD_IDENTIFIER', 'h')]__ \"\"upper bound for product\"\",\n",
       "  [equation] __ProductionLowerBound2[Token('WORD_IDENTIFIER', 'p'), Token('WORD_IDENTIFIER', 'n'), Token('WORD_IDENTIFIER', 'h')]__ \"\"lower bound for product\"\",\n",
       "  [equation] __CampanLengthDef[Token('WORD_IDENTIFIER', 'n'), Token('WORD_IDENTIFIER', 'h')]__ \"\"Definition of campaign length\"\",\n",
       "  [equation] __CampaignUpperBound[Token('WORD_IDENTIFIER', 'n'), Token('WORD_IDENTIFIER', 'h')]__ \"\"upper bound on duration\"\",\n",
       "  [equation] __CampaignLowerBound[Token('WORD_IDENTIFIER', 'n'), Token('WORD_IDENTIFIER', 'h')]__ \"\"lower bound on duration\"\",\n",
       "  [equation] __CampaignSetupCostCon[Token('WORD_IDENTIFIER', 'h')]__ \"\"campaign setup cost\"\",\n",
       "  [equation] __CampaignStorageCost[Token('WORD_IDENTIFIER', 'h')]__ \"\"campaign variable storage cost\"\",\n",
       "  [equation] __AuxiliaryCon[Token('WORD_IDENTIFIER', 'p'), Token('WORD_IDENTIFIER', 'n'), Token('WORD_IDENTIFIER', 'h')]__ \"\"define the auxiliary variables\"\",\n",
       "  [equation] __CampaignCostPerTon[Token('WORD_IDENTIFIER', 'h')]__ \"\"cost per ton\"\",\n",
       "  [equation] __Sequence[Token('WORD_IDENTIFIER', 'p'), Token('WORD_IDENTIFIER', 'n'), Token('WORD_IDENTIFIER', 'h')]__ \"\"redundant constraint on the omega\"\",\n",
       "  [equation] __BreakSymmetry[Token('WORD_IDENTIFIER', 'n'), Token('WORD_IDENTIFIER', 'h')]__ \"\"break the symmetry of active campaigns\"\",\n",
       "  [equation] __objective__ \"\"objective function\"\"],\n",
       " Tree('eq_definition', [Tree('symbol', [__objective__]), Tree('lhs', [Tree('symbol', [__objvar__])]), Tree('eqn_equality', []), Tree('rhs', [Tree('expression', [Tree('expression', [Tree('summation', []), (h), Tree('expression', [Tree('symbol', [__prob__, (h)]), Tree('multiplication', []), Tree('symbol', [__costPerTon__, (h)])])]), Tree('addition', []), Tree('symbol', [__VariableInvestmentCostFactor__])])])]),\n",
       " Tree('eq_definition', [Tree('symbol', [__TimeCapacity__, (h)]), Tree('lhs', [Tree('symbol', [__cycleTime__, (h)])]), Tree('eqn_equality', []), Tree('rhs', [Tree('expression', [Tree('summation', []), (n), Tree('expression', [Tree('symbol', [__campaignDuration__, (n,h)]), Tree('addition', []), Tree('expression', [Tree('summation', []), (p), Tree('expression', [Tree('symbol', [__CampaignSetupTime__, (p)]), Tree('multiplication', []), Tree('symbol', [__assignProductToCampaign__, (p,n,h)])])])])])])]),\n",
       " Tree('eq_definition', [Tree('symbol', [__UniqueProduct__, (n,h)]), Tree('lhs', [Tree('expression', [Tree('summation', []), (p), Tree('symbol', [__assignProductToCampaign__, (p,n,h)])])]), Tree('eqn_less_than', []), Tree('rhs', [Tree('symbol', [__1__])])]),\n",
       " Tree('eq_definition', [Tree('symbol', [__MaterialBalance__, (p,n,h)]), Tree('lhs', [Tree('symbol', [__productInventory__, (p,Tree('circular_lead', [__n__, Token('NUMBER', '1')]),h)])]), Tree('eqn_equality', []), Tree('rhs', [Tree('expression', [Tree('symbol', [__productInventory__, (p,n,h)]), Tree('addition', []), Tree('expression', [Tree('symbol', [__amtProductInCampaign__, (p,n,h)]), Tree('substraction', []), Tree('expression', [Tree('symbol', [__DemandPerDay__, (p,h)]), Tree('multiplication', []), Tree('expression', [Tree('symbol', [__campaignDuration__, (n,h)]), Tree('addition', []), Tree('expression', [Tree('summation', []), (pp), Tree('expression', [Tree('symbol', [__CampaignSetupTime__, (pp)]), Tree('multiplication', []), Tree('symbol', [__assignProductToCampaign__, (pp,n,h)])])])])])])])])]),\n",
       " Tree('eq_definition', [Tree('symbol', [__TankCapacity__, (p,n,h)]), Tree('lhs', [Tree('symbol', [__productInventory__, (p,n,h)])]), Tree('eqn_less_than', []), Tree('rhs', [Tree('symbol', [__productTankSize__, (p)])])]),\n",
       " Tree('eq_definition', [Tree('symbol', [__ProductionUpperBound1__, (p,n,h)]), Tree('lhs', [Tree('symbol', [__amtProductInCampaign__, (p,n,h)])]), Tree('eqn_less_than', []), Tree('rhs', [Tree('symbol', [__MaxProductionRate__, (p)])])]),\n",
       " Tree('eq_definition', [Tree('symbol', [__ProductionLowerBound1__, (p,n,h)]), Tree('lhs', [Tree('symbol', [__amtProductInCampaign__, (p,n,h)])]), Tree('eqn_greater_than', []), Tree('rhs', [Tree('symbol', [__MinProductionRate__, (p)])])]),\n",
       " Tree('eq_definition', [Tree('symbol', [__ProductionUpperBound2__, (p,n,h)]), Tree('lhs', [Tree('symbol', [__amtProductInCampaign__, (p,n,h)])]), Tree('eqn_less_than', []), Tree('rhs', [Tree('symbol', [__MaxProductionRate__, (p)])])]),\n",
       " Tree('eq_definition', [Tree('symbol', [__ProductionLowerBound2__, (p,n,h)]), Tree('lhs', [Tree('symbol', [__amtProductInCampaign__, (p,n,h)])]), Tree('eqn_greater_than', []), Tree('rhs', [Tree('symbol', [__MinProductionRate__, (p)])])]),\n",
       " Tree('eq_definition', [Tree('symbol', [__CampaignUpperBound__, (n,h)]), Tree('lhs', [Tree('symbol', [__campaignDuration__, (n,h)])]), Tree('eqn_less_than', []), Tree('rhs', [Tree('expression', [Tree('summation', []), (p), Tree('expression', [Tree('symbol', [__ProductionLength_upper__, (p)]), Tree('multiplication', []), Tree('symbol', [__assignProductToCampaign__, (p,n,h)])])])])]),\n",
       " Tree('eq_definition', [Tree('symbol', [__CampaignLowerBound__, (n,h)]), Tree('lhs', [Tree('symbol', [__campaignDuration__, (n,h)])]), Tree('eqn_greater_than', []), Tree('rhs', [Tree('expression', [Tree('summation', []), (p), Tree('expression', [Tree('symbol', [__ProductionLength_lower__, (p)]), Tree('multiplication', []), Tree('symbol', [__assignProductToCampaign__, (p,n,h)])])])])]),\n",
       " Tree('eq_definition', [Tree('symbol', [__CampanLengthDef__, (n,h)]), Tree('lhs', [Tree('symbol', [__campaignLength__, (n,h)])]), Tree('eqn_equality', []), Tree('rhs', [Tree('expression', [Tree('symbol', [__campaignDuration__, (n,h)]), Tree('addition', []), Tree('expression', [Tree('summation', []), (pp), Tree('expression', [Tree('symbol', [__CampaignSetupTime__, (pp)]), Tree('multiplication', []), Tree('symbol', [__assignProductToCampaign__, (pp,n,h)])])])])])]),\n",
       " Tree('eq_definition', [Tree('symbol', [__CampaignSetupCostCon__, (h)]), Tree('lhs', [Tree('symbol', [__setupCost__, (h)])]), Tree('eqn_equality', []), Tree('rhs', [Tree('expression', [Tree('summation', []), (p,n), Tree('expression', [Tree('symbol', [__CampaignSetupCost__, (p)]), Tree('multiplication', []), Tree('symbol', [__assignProductToCampaign__, (p,n,h)])])])])]),\n",
       " Tree('eq_definition', [Tree('symbol', [__CampaignStorageCost__, (h)]), Tree('lhs', [Tree('symbol', [__variableCost__, (h)])]), Tree('eqn_equality', []), Tree('rhs', [Tree('expression', [Tree('summation', []), (p,n), Tree('expression', [Tree('symbol', [__CampaignVariableCost__, (p)]), Tree('multiplication', []), Tree('symbol', [__campaignLength__, (n,h)])])])])]),\n",
       " Tree('eq_definition', [Tree('symbol', [__AuxiliaryCon__, (p,n,h)]), Tree('lhs', [Tree('symbol', [__auxiliaryVariable__, (p,n,h)])]), Tree('eqn_equality', []), Tree('rhs', [Tree('number', [Token('SIGNED_NUMBER', '0.5')])])]),\n",
       " Tree('eq_definition', [Tree('symbol', [__CampaignCostPerTon__, (h)]), Tree('lhs', [Tree('expression', [Tree('expression', [Tree('symbol', [__costPerTon__, (h)]), Tree('multiplication', []), Tree('symbol', [__cycleTime__, (h)])]), Tree('multiplication', []), Tree('symbol', [__TotalDemandPerDay__, (h)])])]), Tree('eqn_equality', []), Tree('rhs', [Tree('expression', [Tree('symbol', [__setupCost__, (h)]), Tree('addition', []), Tree('symbol', [__variableCost__, (h)])])])]),\n",
       " Tree('eq_definition', [Tree('symbol', [__Sequence__, (p,n,h)]), Tree('lhs', [Tree('expression', [Tree('symbol', [__1__]), Tree('substraction', []), Tree('symbol', [__assignProductToCampaign__, (p,n,h)])])]), Tree('eqn_greater_than', []), Tree('rhs', [Tree('symbol', [__assignProductToCampaign__, (p,Tree('lead', [__n__, Token('NUMBER', '1')]),h)])])]),\n",
       " Tree('eq_definition', [Tree('symbol', [__BreakSymmetry__, (n,h)]), Tree('lhs', [Tree('expression', [Tree('summation', []), (p), Tree('symbol', [__assignProductToCampaign__, (p,n,h)])])]), Tree('eqn_greater_than', []), Tree('rhs', [Tree('expression', [Tree('summation', []), (p), Tree('symbol', [__assignProductToCampaign__, (p,Tree('lead', [__n__, Token('NUMBER', '1')]),h)])])])]),\n",
       " <model=tanksize1 eqn=all>,\n",
       " <assignment n_symbols=5>,\n",
       " <assignment n_symbols=6>,\n",
       " <assignment n_symbols=5>,\n",
       " <assignment n_symbols=5>,\n",
       " <assignment n_symbols=3>,\n",
       " <assignment n_symbols=7>,\n",
       " <assignment n_symbols=6>,\n",
       " <assignment n_symbols=4>,\n",
       " <assignment n_symbols=3>,\n",
       " <assignment n_symbols=3>,\n",
       " <assignment n_symbols=3>,\n",
       " <assignment n_symbols=3>,\n",
       " <assignment n_symbols=6>,\n",
       " <assignment n_symbols=6>,\n",
       " -> solve model=tanksize1 min objvar,\n",
       " [[scalar] __SOLVER_TIME__, [scalar] __WALL_TIME__],\n",
       " <assignment n_symbols=2>,\n",
       " <assignment n_symbols=2>,\n",
       " Tree('display', [__SOLVER_TIME__, __WALL_TIME__])]"
      ]
     },
     "execution_count": 3,
     "metadata": {},
     "output_type": "execute_result"
    }
   ],
   "source": [
    "# dir(transformer)\n",
    "model._tree"
   ]
  },
  {
   "cell_type": "code",
   "execution_count": 3,
   "metadata": {},
   "outputs": [],
   "source": [
    "from pyomo.environ import *\n",
    "\n",
    "# create all declared model\n",
    "pyomo_models = {}\n",
    "\n",
    "for _m in model.model_defs:\n",
    "    # get name from the model definition\n",
    "    pyomo_models[_m.name] = ConcreteModel()\n",
    "    m = pyomo_models[_m.name]\n",
    "\n",
    "    # check if all constraints are included\n",
    "    if len(_m.equations) == 1 and _m.equations[0].name.lower == 'all':\n",
    "        all_eq = True\n",
    "    else:\n",
    "        all_eq = False\n",
    "\n",
    "    # define sets\n",
    "    for s in model.set():\n",
    "        # print(s)\n",
    "        isinstance(s.data.children, list) and len(s.data.children) == 1\n",
    "        s.data.children[0].data == 'symbol_range'\n",
    "        _idx_1, _idx_2 = str(s.data.children[0].children[0]), str(s.data.children[0].children[1])\n",
    "\n",
    "        def sequence_set(idx1, idx2):\n",
    "            if isinstance(idx1, int):\n",
    "                return list(range(idx1, idx2 + 1))\n",
    "            prefix = ''\n",
    "            for i, c in enumerate(idx1):\n",
    "                try:\n",
    "                    int(idx1[i:])\n",
    "                    prefix = idx1[:i]\n",
    "                    break\n",
    "                except ValueError:\n",
    "                    pass\n",
    "\n",
    "            try:\n",
    "                n1 = int(idx1.split(prefix)[1])\n",
    "                n2 = int(idx2.split(prefix)[1])\n",
    "                _set = range(n1, n2 + 1)\n",
    "                return [prefix + str(i) for i in _set]\n",
    "            except ValueError:\n",
    "                return list(range(int(idx1), int(idx2) + 1))\n",
    "\n",
    "\n",
    "        setattr(m, s.symbol.name.upper(), Set(initialize=sequence_set(_idx_1, _idx_2), doc=s.description))"
   ]
  },
  {
   "cell_type": "code",
   "execution_count": 2,
   "metadata": {},
   "outputs": [
    {
     "data": {
      "text/plain": [
       "[[parameter] __MinProductionRate[Token('WORD_IDENTIFIER', 'p')]__ \"\"lower bound on the production rate in m^3/day\"\" Tree('data', [Tree('data_value', [Tree('symbol_id', [Token('INTEGER', '1')]), 15.0]), Tree('data_value', [Tree('symbol_id', [Token('INTEGER', '2')]), 15.0]), Tree('data_value', [Tree('symbol_id', [Token('INTEGER', '3')]), 7.0])]),\n",
       " [parameter] __MaxProductionRate[Token('WORD_IDENTIFIER', 'p')]__ \"\"upper bound on the production rate in m^3/day\"\" Tree('data', [Tree('data_value', [Tree('symbol_id', [Token('INTEGER', '1')]), 50.0]), Tree('data_value', [Tree('symbol_id', [Token('INTEGER', '2')]), 50.0]), Tree('data_value', [Tree('symbol_id', [Token('INTEGER', '3')]), 50.0])]),\n",
       " [parameter] __InventoryLowerBound[Token('WORD_IDENTIFIER', 'p')]__ \"\"lower bound on inventory in m^3\"\" Tree('data', [Tree('data_value', [Tree('symbol_id', [Token('INTEGER', '1')]), 643.0]), Tree('data_value', [Tree('symbol_id', [Token('INTEGER', '2')]), 536.0]), Tree('data_value', [Tree('symbol_id', [Token('INTEGER', '3')]), 214.0])]),\n",
       " [parameter] __InventoryUpperBound[Token('WORD_IDENTIFIER', 'p')]__ \"\"upper bound on inventory in m^3\"\" Tree('data', [Tree('data_value', [Tree('symbol_id', [Token('INTEGER', '1')]), 4018.36]), Tree('data_value', [Tree('symbol_id', [Token('INTEGER', '2')]), 3348.63]), Tree('data_value', [Tree('symbol_id', [Token('INTEGER', '3')]), 1339.45])]),\n",
       " [parameter] __InitialInventory[Token('WORD_IDENTIFIER', 'p')]__ \"\"initial inventory in m^3\"\",\n",
       " [parameter] __ProductionLength_lower[Token('WORD_IDENTIFIER', 'p')]__ \"\"lower bound on production length\"\" Tree('data', [Tree('data_value', [Tree('symbol_id', [Token('INTEGER', '1')]), 1.0]), Tree('data_value', [Tree('symbol_id', [Token('INTEGER', '2')]), 1.0]), Tree('data_value', [Tree('symbol_id', [Token('INTEGER', '3')]), 1.0])]),\n",
       " [parameter] __ProductionLength_upper[Token('WORD_IDENTIFIER', 'p')]__ \"\"upper bound on production length\"\" Tree('data', [Tree('data_value', [Tree('symbol_id', [Token('INTEGER', '1')]), 10.0]), Tree('data_value', [Tree('symbol_id', [Token('INTEGER', '2')]), 10.0]), Tree('data_value', [Tree('symbol_id', [Token('INTEGER', '3')]), 10.0])]),\n",
       " [parameter] __ProductDemand_nominal[Token('WORD_IDENTIFIER', 'p')]__ \"\"nominal demand of product in m^3/year\"\" Tree('data', [Tree('data_value', [Tree('symbol_id', [Token('INTEGER', '1')]), 4190.0]), Tree('data_value', [Tree('symbol_id', [Token('INTEGER', '2')]), 3492.0]), Tree('data_value', [Tree('symbol_id', [Token('INTEGER', '3')]), 1397.0])]),\n",
       " [parameter] __ProductDemand_stdev[Token('WORD_IDENTIFIER', 'p')]__ \"\"standard deviation of demand of product in m^3/year\"\",\n",
       " [parameter] __ProductDemand[Token('WORD_IDENTIFIER', 'p'), Token('WORD_IDENTIFIER', 'h')]__ \"\"demand of product in m^3/year\"\",\n",
       " [parameter] __CampaignSetupTime[Token('WORD_IDENTIFIER', 'p')]__ \"\"campaign setup time in days\"\" Tree('data', [Tree('data_value', [Tree('symbol_id', [Token('INTEGER', '1')]), 0.4]), Tree('data_value', [Tree('symbol_id', [Token('INTEGER', '2')]), 0.2]), Tree('data_value', [Tree('symbol_id', [Token('INTEGER', '3')]), 0.1])]),\n",
       " [parameter] __CampaignVariableCost[Token('WORD_IDENTIFIER', 'p')]__ \"\"tank variable cost per ton\"\" Tree('data', [Tree('data_value', [Tree('symbol_id', [Token('INTEGER', '1')]), 18.8304]), Tree('data_value', [Tree('symbol_id', [Token('INTEGER', '2')]), 19.2934]), Tree('data_value', [Tree('symbol_id', [Token('INTEGER', '3')]), 19.7563])]),\n",
       " [parameter] __CampaignSetupCost[Token('WORD_IDENTIFIER', 'p')]__ \"\"campaign setup cost\"\" Tree('data', [Tree('data_value', [Tree('symbol_id', [Token('INTEGER', '1')]), 10.0]), Tree('data_value', [Tree('symbol_id', [Token('INTEGER', '2')]), 20.0]), Tree('data_value', [Tree('symbol_id', [Token('INTEGER', '3')]), 30.0])]),\n",
       " [parameter] __prob[Token('WORD_IDENTIFIER', 'h')]__ \"\"probability of each scenario\"\",\n",
       " [parameter] __subprob[Token('WORD_IDENTIFIER', 'subh')]__ \"\"probability for each individual uncertain realization\"\",\n",
       " [parameter] __DemandPerDay[Token('WORD_IDENTIFIER', 'p'), Token('WORD_IDENTIFIER', 'h')]__ \"\"demand/day/product [tons/day]\"\",\n",
       " [parameter] __TotalDemandPerDay[Token('WORD_IDENTIFIER', 'h')]__ \"\"total demand/day [tons/day]\"\"]"
      ]
     },
     "execution_count": 2,
     "metadata": {},
     "output_type": "execute_result"
    }
   ],
   "source": [
    "model.parameter()"
   ]
  },
  {
   "cell_type": "code",
   "execution_count": 4,
   "metadata": {},
   "outputs": [
    {
     "name": "stdout",
     "output_type": "stream",
     "text": [
      "4 Set Declarations\n",
      "    H : \"number of scenarios\"\n",
      "        Size=1, Index=None, Ordered=Insertion\n",
      "        Key  : Dimen : Domain : Size : Members\n",
      "        None :     1 :    Any :    2 : {1, 2}\n",
      "    N : \"event points\"\n",
      "        Size=1, Index=None, Ordered=Insertion\n",
      "        Key  : Dimen : Domain : Size : Members\n",
      "        None :     1 :    Any :    3 : {1, 2, 3}\n",
      "    P : \"products\"\n",
      "        Size=1, Index=None, Ordered=Insertion\n",
      "        Key  : Dimen : Domain : Size : Members\n",
      "        None :     1 :    Any :    3 : {1, 2, 3}\n",
      "    SUBH : \"num. realizations per uncertain param\"\n",
      "        Size=1, Index=None, Ordered=Insertion\n",
      "        Key  : Dimen : Domain : Size : Members\n",
      "        None :     1 :    Any :    2 : {1, 2}\n",
      "\n",
      "4 Declarations: P N H SUBH\n"
     ]
    }
   ],
   "source": [
    "# sequence_set('1', '3')\n",
    "m.pprint()"
   ]
  }
 ],
 "metadata": {
  "kernelspec": {
   "display_name": "env",
   "language": "python",
   "name": "python3"
  },
  "language_info": {
   "codemirror_mode": {
    "name": "ipython",
    "version": 3
   },
   "file_extension": ".py",
   "mimetype": "text/x-python",
   "name": "python",
   "nbconvert_exporter": "python",
   "pygments_lexer": "ipython3",
   "version": "3.8.8 (default, Apr 13 2021, 12:59:45) \n[Clang 10.0.0 ]"
  },
  "orig_nbformat": 4,
  "vscode": {
   "interpreter": {
    "hash": "46a1e8ecdb898e9650f579cbd42d692c15b454f20ecd41658bdf8f03714ca2fc"
   }
  }
 },
 "nbformat": 4,
 "nbformat_minor": 2
}
