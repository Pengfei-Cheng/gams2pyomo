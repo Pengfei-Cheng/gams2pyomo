{
 "cells": [
  {
   "attachments": {},
   "cell_type": "markdown",
   "metadata": {},
   "source": [
    "# Log 01-04-2023"
   ]
  },
  {
   "attachments": {},
   "cell_type": "markdown",
   "metadata": {},
   "source": [
    "## TODOs\n",
    "\n",
    "- [x] figure out how to write a tree into a pyomo model\n",
    "- [ ] build the transformer\n",
    "    - [ ] ability to temporarily store statements\n",
    "    - [ ] ability to construct a pyomo model"
   ]
  },
  {
   "attachments": {},
   "cell_type": "markdown",
   "metadata": {},
   "source": [
    "## Observations"
   ]
  },
  {
   "attachments": {},
   "cell_type": "markdown",
   "metadata": {},
   "source": [
    "### 15:46 aims of existing files:\n",
    "\n",
    "- `gams_writer`:\n",
    "    - write sets and parameters to csv\n",
    "- `tree_injector`:\n",
    "    - seems to serve the company specifically\n",
    "- `tree_to_model`:\n",
    "    - transformer"
   ]
  },
  {
   "attachments": {},
   "cell_type": "markdown",
   "metadata": {},
   "source": [
    "### 17:46 procedure\n",
    "\n",
    "1. look for small gms examples\n",
    "2. print out the tree first\n",
    "3. for each child, evaluate how to store them"
   ]
  },
  {
   "attachments": {},
   "cell_type": "markdown",
   "metadata": {},
   "source": [
    "## Code"
   ]
  },
  {
   "cell_type": "code",
   "execution_count": 1,
   "metadata": {},
   "outputs": [
    {
     "ename": "FileNotFoundError",
     "evalue": "[Errno 2] No such file or directory: 'test/gams_big/tanksize2.gms'",
     "output_type": "error",
     "traceback": [
      "\u001b[0;31m---------------------------------------------------------------------------\u001b[0m",
      "\u001b[0;31mFileNotFoundError\u001b[0m                         Traceback (most recent call last)",
      "Cell \u001b[0;32mIn[1], line 5\u001b[0m\n\u001b[1;32m      1\u001b[0m \u001b[39mfrom\u001b[39;00m \u001b[39mgams2pyomo\u001b[39;00m \u001b[39mimport\u001b[39;00m GamsParser\n\u001b[1;32m      3\u001b[0m f \u001b[39m=\u001b[39m \u001b[39m'\u001b[39m\u001b[39mtest/gams_big/tanksize2.gms\u001b[39m\u001b[39m'\u001b[39m\n\u001b[0;32m----> 5\u001b[0m gp \u001b[39m=\u001b[39m GamsParser(f)\n\u001b[1;32m      6\u001b[0m \u001b[39m# parse_tree=gp.parse()\u001b[39;00m\n\u001b[1;32m      7\u001b[0m \u001b[39m# print(parse_tree.pretty())\u001b[39;00m\n\u001b[1;32m      9\u001b[0m model \u001b[39m=\u001b[39m gp\u001b[39m.\u001b[39mtransform()\n",
      "File \u001b[0;32m~/Documents/coding/gams2pyomo/gams2pyomo/gams_parser.py:23\u001b[0m, in \u001b[0;36mGamsParser.__init__\u001b[0;34m(self, file)\u001b[0m\n\u001b[1;32m     20\u001b[0m \u001b[39mdef\u001b[39;00m \u001b[39m__init__\u001b[39m(\u001b[39mself\u001b[39m, file):\n\u001b[1;32m     22\u001b[0m     \u001b[39mif\u001b[39;00m \u001b[39misinstance\u001b[39m(file, \u001b[39mstr\u001b[39m):\n\u001b[0;32m---> 23\u001b[0m         \u001b[39mself\u001b[39m\u001b[39m.\u001b[39mfile \u001b[39m=\u001b[39m \u001b[39mopen\u001b[39;49m(file, \u001b[39m'\u001b[39;49m\u001b[39mr\u001b[39;49m\u001b[39m'\u001b[39;49m)\n\u001b[1;32m     24\u001b[0m     \u001b[39melse\u001b[39;00m:\n\u001b[1;32m     25\u001b[0m         \u001b[39mself\u001b[39m\u001b[39m.\u001b[39mfile \u001b[39m=\u001b[39m file\n",
      "\u001b[0;31mFileNotFoundError\u001b[0m: [Errno 2] No such file or directory: 'test/gams_big/tanksize2.gms'"
     ]
    }
   ],
   "source": [
    "from gams2pyomo import GamsParser\n",
    "\n",
    "f = 'test/gams_big/tanksize2.gms'\n",
    "\n",
    "gp = GamsParser(f)\n",
    "# parse_tree=gp.parse()\n",
    "# print(parse_tree.pretty())\n",
    "\n",
    "model = gp.transform()"
   ]
  },
  {
   "cell_type": "code",
   "execution_count": 3,
   "metadata": {},
   "outputs": [
    {
     "name": "stdout",
     "output_type": "stream",
     "text": [
      "start\n",
      "  b_variable_list\n",
      "    definition\n",
      "      symbol\n",
      "        symbol_name\tassignProductToCampaign\n",
      "        index_list\n",
      "          symbol_name\tp\n",
      "          symbol_name\tn\n",
      "          symbol_name\th\n",
      "      description\t\"binary variable mapping product to campaign\"\n",
      "\n"
     ]
    }
   ],
   "source": [
    "from gams2pyomo import GamsParser\n",
    "with open('./test/gams_basic/variable/binary_v.gms','r') as in_file:\n",
    "    gp = GamsParser(in_file)\n",
    "    parse_tree=gp.parse()\n",
    "    print(parse_tree.pretty())\n",
    "\n",
    "    # model=gp.transform()\n",
    "\n",
    "    # print(\"\\nModel\\n\")\n",
    "    # print(model)\n",
    "\n",
    "    # print(\"\\nSymbols:\\n\")\n",
    "    # for s in model.symbol():\n",
    "    #     print(s)"
   ]
  }
 ],
 "metadata": {
  "kernelspec": {
   "display_name": "env",
   "language": "python",
   "name": "python3"
  },
  "language_info": {
   "codemirror_mode": {
    "name": "ipython",
    "version": 3
   },
   "file_extension": ".py",
   "mimetype": "text/x-python",
   "name": "python",
   "nbconvert_exporter": "python",
   "pygments_lexer": "ipython3",
   "version": "3.8.8"
  },
  "orig_nbformat": 4,
  "vscode": {
   "interpreter": {
    "hash": "46a1e8ecdb898e9650f579cbd42d692c15b454f20ecd41658bdf8f03714ca2fc"
   }
  }
 },
 "nbformat": 4,
 "nbformat_minor": 2
}
