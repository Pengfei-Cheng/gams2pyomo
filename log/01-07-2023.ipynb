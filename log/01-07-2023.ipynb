{
 "cells": [
  {
   "attachments": {},
   "cell_type": "markdown",
   "metadata": {},
   "source": [
    "# Log 01-07-2023"
   ]
  },
  {
   "attachments": {},
   "cell_type": "markdown",
   "metadata": {},
   "source": [
    "## New workflow\n",
    "- you do not even need a Model class for temporarily storing anything\n",
    "- you can create a single model and then duplicate it for model statement; and then deactivate constraints\n",
    "    - by thinking about how gams works itself\n",
    "- and create subclasses for definitions, and add extra code for creating sets, params, etc in Pyomo\n",
    "- or **DIRECTLY write string**"
   ]
  },
  {
   "attachments": {},
   "cell_type": "markdown",
   "metadata": {},
   "source": [
    "## TODOs\n",
    "- [ ] generate code from the transformer\n",
    "    - [x] title\n",
    "    - [x] option\n",
    "    - [x] set\n",
    "    - [x] alias\n",
    "    - [x] scalar\n",
    "    - [x] parameter\n",
    "    - [ ] assignment\n",
    "    - [ ] if statement\n",
    "    - [ ] loop\n",
    "    - [ ] variables\n",
    "    - [ ] constraints\n",
    "    - [ ] objective\n",
    "    - [ ] set bounds?\n",
    "- [ ] update grammar\n",
    "    - [ ] un-ignore comments\n",
    "- [ ] rename `model.py` to `components.py`"
   ]
  },
  {
   "attachments": {},
   "cell_type": "markdown",
   "metadata": {},
   "source": [
    "## Observations"
   ]
  },
  {
   "attachments": {},
   "cell_type": "markdown",
   "metadata": {},
   "source": [
    "### 16:03\n",
    "\n",
    "- grammar: `_ALIAS \t\t_LPAR index_list _RPAR \t_END -> alias_list`\n",
    "- transformer for `alias_list`: only index_list is returned, its symbol_type is marked as `alias`\n",
    "- the `assemble` method should be with index_list"
   ]
  },
  {
   "attachments": {},
   "cell_type": "markdown",
   "metadata": {},
   "source": [
    "### 16:11\n",
    "\n",
    "scalar parsed wrong: 0.3271 parsed as 0 and 3271"
   ]
  },
  {
   "attachments": {},
   "cell_type": "markdown",
   "metadata": {},
   "source": [
    "### 17:00\n",
    "\n",
    "probably we still need to count something..."
   ]
  },
  {
   "attachments": {},
   "cell_type": "markdown",
   "metadata": {},
   "source": [
    "### 17:32\n",
    "\n",
    "alternative structure:\n",
    "- `Symbol`: take a tree as argument, then kinda parse it partially"
   ]
  },
  {
   "attachments": {},
   "cell_type": "markdown",
   "metadata": {},
   "source": [
    "### 17:59 The transformer structure is a shit show"
   ]
  },
  {
   "attachments": {},
   "cell_type": "markdown",
   "metadata": {},
   "source": [
    "## Code"
   ]
  },
  {
   "cell_type": "code",
   "execution_count": 1,
   "metadata": {},
   "outputs": [
    {
     "ename": "VisitError",
     "evalue": "Error trying to process rule \"start\":\n\n'Tree' object has no attribute 'value'",
     "output_type": "error",
     "traceback": [
      "\u001b[0;31m---------------------------------------------------------------------------\u001b[0m",
      "\u001b[0;31mAttributeError\u001b[0m                            Traceback (most recent call last)",
      "File \u001b[0;32m~/Documents/coding/gams2pyomo/gams2pyomo/model.py:335\u001b[0m, in \u001b[0;36mAssignment.assemble\u001b[0;34m(self)\u001b[0m\n\u001b[1;32m    334\u001b[0m \u001b[39mtry\u001b[39;00m:\n\u001b[0;32m--> 335\u001b[0m     res \u001b[39m+\u001b[39m\u001b[39m=\u001b[39m c\u001b[39m.\u001b[39;49massemble()\n\u001b[1;32m    336\u001b[0m \u001b[39mexcept\u001b[39;00m:\n",
      "\u001b[0;31mAttributeError\u001b[0m: 'Tree' object has no attribute 'assemble'",
      "\nDuring handling of the above exception, another exception occurred:\n",
      "\u001b[0;31mAttributeError\u001b[0m                            Traceback (most recent call last)",
      "File \u001b[0;32m~/Documents/coding/gams2pyomo/env/lib/python3.8/site-packages/lark/visitors.py:91\u001b[0m, in \u001b[0;36mTransformer._call_userfunc\u001b[0;34m(self, tree, new_children)\u001b[0m\n\u001b[1;32m     90\u001b[0m \u001b[39mif\u001b[39;00m wrapper \u001b[39mis\u001b[39;00m \u001b[39mnot\u001b[39;00m \u001b[39mNone\u001b[39;00m:\n\u001b[0;32m---> 91\u001b[0m     \u001b[39mreturn\u001b[39;00m f\u001b[39m.\u001b[39;49mvisit_wrapper(f, tree\u001b[39m.\u001b[39;49mdata, children, tree\u001b[39m.\u001b[39;49mmeta)\n\u001b[1;32m     92\u001b[0m \u001b[39melse\u001b[39;00m:\n",
      "File \u001b[0;32m~/Documents/coding/gams2pyomo/env/lib/python3.8/site-packages/lark/visitors.py:447\u001b[0m, in \u001b[0;36m_vargs_meta\u001b[0;34m(f, _data, children, meta)\u001b[0m\n\u001b[1;32m    446\u001b[0m \u001b[39mdef\u001b[39;00m \u001b[39m_vargs_meta\u001b[39m(f, _data, children, meta):\n\u001b[0;32m--> 447\u001b[0m     \u001b[39mreturn\u001b[39;00m f(children, meta)\n",
      "File \u001b[0;32m~/Documents/coding/gams2pyomo/env/lib/python3.8/site-packages/lark/visitors.py:427\u001b[0m, in \u001b[0;36m_visitor_args_func_dec.<locals>.create_decorator.<locals>.f\u001b[0;34m(self, *args, **kwargs)\u001b[0m\n\u001b[1;32m    426\u001b[0m \u001b[39mdef\u001b[39;00m \u001b[39mf\u001b[39m(\u001b[39mself\u001b[39m, \u001b[39m*\u001b[39margs, \u001b[39m*\u001b[39m\u001b[39m*\u001b[39mkwargs):\n\u001b[0;32m--> 427\u001b[0m     \u001b[39mreturn\u001b[39;00m _f(\u001b[39mself\u001b[39;49m, \u001b[39m*\u001b[39;49margs, \u001b[39m*\u001b[39;49m\u001b[39m*\u001b[39;49mkwargs)\n",
      "File \u001b[0;32m~/Documents/coding/gams2pyomo/gams2pyomo/transformer.py:50\u001b[0m, in \u001b[0;36mTreeToModel.start\u001b[0;34m(self, children, meta)\u001b[0m\n\u001b[1;32m     49\u001b[0m \u001b[39mif\u001b[39;00m \u001b[39misinstance\u001b[39m(statement, Option) \u001b[39mor\u001b[39;00m \u001b[39misinstance\u001b[39m(statement, Assignment):\n\u001b[0;32m---> 50\u001b[0m     res \u001b[39m+\u001b[39m\u001b[39m=\u001b[39m statement\u001b[39m.\u001b[39;49massemble()\n\u001b[1;32m     51\u001b[0m \u001b[39m# if isinstance(statement, Alias):\u001b[39;00m\n\u001b[1;32m     52\u001b[0m \u001b[39m#     res += statement.assemble()\u001b[39;00m\n",
      "File \u001b[0;32m~/Documents/coding/gams2pyomo/gams2pyomo/model.py:337\u001b[0m, in \u001b[0;36mAssignment.assemble\u001b[0;34m(self)\u001b[0m\n\u001b[1;32m    336\u001b[0m     \u001b[39mexcept\u001b[39;00m:\n\u001b[0;32m--> 337\u001b[0m         res \u001b[39m+\u001b[39m\u001b[39m=\u001b[39m \u001b[39mstr\u001b[39m(c\u001b[39m.\u001b[39;49mvalue)\n\u001b[1;32m    338\u001b[0m \u001b[39mreturn\u001b[39;00m \u001b[39m'\u001b[39m\u001b[39m'\u001b[39m\n",
      "\u001b[0;31mAttributeError\u001b[0m: 'Tree' object has no attribute 'value'",
      "\nDuring handling of the above exception, another exception occurred:\n",
      "\u001b[0;31mVisitError\u001b[0m                                Traceback (most recent call last)",
      "Cell \u001b[0;32mIn[1], line 9\u001b[0m\n\u001b[1;32m      6\u001b[0m     gp \u001b[39m=\u001b[39m GamsParser(in_file)\n\u001b[1;32m      8\u001b[0m parse_tree \u001b[39m=\u001b[39m gp\u001b[39m.\u001b[39mparse()\n\u001b[0;32m----> 9\u001b[0m res \u001b[39m=\u001b[39m gp\u001b[39m.\u001b[39;49mtransform()\n\u001b[1;32m     10\u001b[0m \u001b[39mprint\u001b[39m(res)\n",
      "File \u001b[0;32m~/Documents/coding/gams2pyomo/gams2pyomo/gams_parser.py:34\u001b[0m, in \u001b[0;36mGamsParser.transform\u001b[0;34m(self)\u001b[0m\n\u001b[1;32m     32\u001b[0m \u001b[39mdef\u001b[39;00m \u001b[39mtransform\u001b[39m(\u001b[39mself\u001b[39m):\n\u001b[1;32m     33\u001b[0m     parse_tree \u001b[39m=\u001b[39m lark_gams\u001b[39m.\u001b[39mparse(\u001b[39mself\u001b[39m\u001b[39m.\u001b[39mtext)\n\u001b[0;32m---> 34\u001b[0m     res \u001b[39m=\u001b[39m TreeToModel()\u001b[39m.\u001b[39;49mtransform(parse_tree)\n\u001b[1;32m     35\u001b[0m     \u001b[39m# res.cross_reference()\u001b[39;00m\n\u001b[1;32m     36\u001b[0m     \u001b[39m# res.reference_lines(self.text)\u001b[39;00m\n\u001b[1;32m     37\u001b[0m     \u001b[39mreturn\u001b[39;00m res\n",
      "File \u001b[0;32m~/Documents/coding/gams2pyomo/env/lib/python3.8/site-packages/lark/visitors.py:130\u001b[0m, in \u001b[0;36mTransformer.transform\u001b[0;34m(self, tree)\u001b[0m\n\u001b[1;32m    128\u001b[0m \u001b[39mdef\u001b[39;00m \u001b[39mtransform\u001b[39m(\u001b[39mself\u001b[39m, tree):\n\u001b[1;32m    129\u001b[0m     \u001b[39m\"\u001b[39m\u001b[39mTransform the given tree, and return the final result\u001b[39m\u001b[39m\"\u001b[39m\n\u001b[0;32m--> 130\u001b[0m     \u001b[39mreturn\u001b[39;00m \u001b[39mself\u001b[39;49m\u001b[39m.\u001b[39;49m_transform_tree(tree)\n",
      "File \u001b[0;32m~/Documents/coding/gams2pyomo/env/lib/python3.8/site-packages/lark/visitors.py:126\u001b[0m, in \u001b[0;36mTransformer._transform_tree\u001b[0;34m(self, tree)\u001b[0m\n\u001b[1;32m    124\u001b[0m \u001b[39mdef\u001b[39;00m \u001b[39m_transform_tree\u001b[39m(\u001b[39mself\u001b[39m, tree):\n\u001b[1;32m    125\u001b[0m     children \u001b[39m=\u001b[39m \u001b[39mlist\u001b[39m(\u001b[39mself\u001b[39m\u001b[39m.\u001b[39m_transform_children(tree\u001b[39m.\u001b[39mchildren))\n\u001b[0;32m--> 126\u001b[0m     \u001b[39mreturn\u001b[39;00m \u001b[39mself\u001b[39;49m\u001b[39m.\u001b[39;49m_call_userfunc(tree, children)\n",
      "File \u001b[0;32m~/Documents/coding/gams2pyomo/env/lib/python3.8/site-packages/lark/visitors.py:97\u001b[0m, in \u001b[0;36mTransformer._call_userfunc\u001b[0;34m(self, tree, new_children)\u001b[0m\n\u001b[1;32m     95\u001b[0m     \u001b[39mraise\u001b[39;00m\n\u001b[1;32m     96\u001b[0m \u001b[39mexcept\u001b[39;00m \u001b[39mException\u001b[39;00m \u001b[39mas\u001b[39;00m e:\n\u001b[0;32m---> 97\u001b[0m     \u001b[39mraise\u001b[39;00m VisitError(tree\u001b[39m.\u001b[39mdata, tree, e)\n",
      "\u001b[0;31mVisitError\u001b[0m: Error trying to process rule \"start\":\n\n'Tree' object has no attribute 'value'"
     ]
    }
   ],
   "source": [
    "from gams2pyomo import GamsParser\n",
    "\n",
    "f = './test/gams_real_problem/tanksize2.gms'\n",
    "\n",
    "with open(f, 'r') as in_file:\n",
    "    gp = GamsParser(in_file)\n",
    "\n",
    "parse_tree = gp.parse()\n",
    "res = gp.transform()\n",
    "print(res)"
   ]
  },
  {
   "cell_type": "code",
   "execution_count": 12,
   "metadata": {},
   "outputs": [
    {
     "name": "stdout",
     "output_type": "stream",
     "text": [
      "assignment\n",
      "  symbol\n",
      "    symbol_name\tProductDemand_stdev\n",
      "    index_list\n",
      "      symbol_element\t2\n",
      "  expression\n",
      "    symbol\n",
      "      symbol_name\tProductDemand_nominal\n",
      "      index_list\n",
      "        symbol_element\t2\n",
      "    multiplication\n",
      "    symbol\n",
      "      symbol_name\t0.1\n",
      "\n"
     ]
    }
   ],
   "source": [
    "i = 17\n",
    "x = parse_tree.children[i]\n",
    "# print(parse_tree.pretty())\n",
    "print(parse_tree.children[i].pretty())"
   ]
  },
  {
   "cell_type": "code",
   "execution_count": null,
   "metadata": {},
   "outputs": [],
   "source": []
  }
 ],
 "metadata": {
  "kernelspec": {
   "display_name": "env",
   "language": "python",
   "name": "python3"
  },
  "language_info": {
   "codemirror_mode": {
    "name": "ipython",
    "version": 3
   },
   "file_extension": ".py",
   "mimetype": "text/x-python",
   "name": "python",
   "nbconvert_exporter": "python",
   "pygments_lexer": "ipython3",
   "version": "3.8.8"
  },
  "orig_nbformat": 4,
  "vscode": {
   "interpreter": {
    "hash": "46a1e8ecdb898e9650f579cbd42d692c15b454f20ecd41658bdf8f03714ca2fc"
   }
  }
 },
 "nbformat": 4,
 "nbformat_minor": 2
}
