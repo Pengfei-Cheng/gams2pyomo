{
 "cells": [
  {
   "attachments": {},
   "cell_type": "markdown",
   "metadata": {},
   "source": [
    "# Log 01-07-2023"
   ]
  },
  {
   "attachments": {},
   "cell_type": "markdown",
   "metadata": {},
   "source": [
    "## New workflow\n",
    "- you do not even need a Model class for temporarily storing anything\n",
    "- you can create a single model and then duplicate it for model statement; and then deactivate constraints\n",
    "    - by thinking about how gams works itself\n",
    "- and create subclasses for definitions, and add extra code for creating sets, params, etc in Pyomo\n",
    "- or **DIRECTLY write string**"
   ]
  },
  {
   "attachments": {},
   "cell_type": "markdown",
   "metadata": {},
   "source": [
    "## TODOs\n",
    "- [ ] generate code from the transformer\n",
    "    - [x] title\n",
    "    - [x] option\n",
    "    - [x] set\n",
    "    - [x] alias\n",
    "    - [x] scalar\n",
    "    - [x] parameter\n",
    "    - [ ] assignment\n",
    "    - [ ] if statement\n",
    "    - [ ] loop\n",
    "    - [ ] variables\n",
    "    - [ ] constraints\n",
    "    - [ ] objective\n",
    "    - [ ] set bounds?\n",
    "- [ ] update grammar\n",
    "    - [ ] un-ignore comments\n",
    "- [ ] rename `model.py` to `components.py`"
   ]
  },
  {
   "attachments": {},
   "cell_type": "markdown",
   "metadata": {},
   "source": [
    "## Observations"
   ]
  },
  {
   "attachments": {},
   "cell_type": "markdown",
   "metadata": {},
   "source": [
    "### 16:03\n",
    "\n",
    "- grammar: `_ALIAS \t\t_LPAR index_list _RPAR \t_END -> alias_list`\n",
    "- transformer for `alias_list`: only index_list is returned, its symbol_type is marked as `alias`\n",
    "- the `assemble` method should be with index_list"
   ]
  },
  {
   "attachments": {},
   "cell_type": "markdown",
   "metadata": {},
   "source": [
    "### 16:11\n",
    "\n",
    "scalar parsed wrong: 0.3271 parsed as 0 and 3271"
   ]
  },
  {
   "attachments": {},
   "cell_type": "markdown",
   "metadata": {},
   "source": [
    "### 17:00\n",
    "\n",
    "probably we still need to count something..."
   ]
  },
  {
   "attachments": {},
   "cell_type": "markdown",
   "metadata": {},
   "source": [
    "### 17:32\n",
    "\n",
    "alternative structure:\n",
    "- `Symbol`: take a tree as argument, then kinda parse it partially"
   ]
  },
  {
   "attachments": {},
   "cell_type": "markdown",
   "metadata": {},
   "source": [
    "### 17:59 The transformer structure is a shit show"
   ]
  },
  {
   "attachments": {},
   "cell_type": "markdown",
   "metadata": {},
   "source": [
    "### 21:17\n",
    "\n",
    "The usually returned list is caused by the following structure:\n",
    "- `symbol \t\t\t: symbol_name[suffix][symbol_index]`\n",
    "- `symbol_name\t\t: identifier`\n",
    "- `identifier \t\t: WORD_IDENTIFIER | SIGNED_NUMBER`\n",
    "- `identifier` is transformed, but `symbol_name` is not (at the time)\n",
    "- Therefore, when transforming `symbol`, `symbol_name` is its first child as a Tree (not transformed)\n",
    "    - the children of `symbol_name` is ALWAYS a list\n",
    "    - but the nested structure caused the confusion"
   ]
  },
  {
   "attachments": {},
   "cell_type": "markdown",
   "metadata": {},
   "source": [
    "### 22:03\n",
    "\n",
    "another difference between rule and terminals:\n",
    "- when `suffix` was assigned to specific strings, those strings were not returned (info lost)\n",
    "- avoided when it is updated to `_DOT string`\n",
    "- or you can do `suffix: .lp -> suffix_lp`"
   ]
  },
  {
   "attachments": {},
   "cell_type": "markdown",
   "metadata": {},
   "source": [
    "### 22:53\n",
    "Sometimes the tree can be left there... when transformed only need to care about its `.data`"
   ]
  },
  {
   "attachments": {},
   "cell_type": "markdown",
   "metadata": {},
   "source": [
    "### (01-08) 16:19 transition to small cases"
   ]
  },
  {
   "attachments": {},
   "cell_type": "markdown",
   "metadata": {},
   "source": [
    "## Code"
   ]
  },
  {
   "attachments": {},
   "cell_type": "markdown",
   "metadata": {},
   "source": [
    "### check every statement"
   ]
  },
  {
   "cell_type": "code",
   "execution_count": null,
   "metadata": {},
   "outputs": [],
   "source": [
    "from gams2pyomo import GamsParser\n",
    "\n",
    "f = './test/gams_real_problem/tanksize2.gms'\n",
    "\n",
    "with open(f, 'r') as in_file:\n",
    "    gp = GamsParser(in_file)\n",
    "\n",
    "parse_tree = gp.parse()\n",
    "res = gp.transform()\n",
    "print(res)"
   ]
  },
  {
   "attachments": {},
   "cell_type": "markdown",
   "metadata": {},
   "source": [
    "### start from scratch"
   ]
  },
  {
   "cell_type": "code",
   "execution_count": 1,
   "metadata": {},
   "outputs": [],
   "source": [
    "from gams2pyomo import GamsParser\n",
    "\n",
    "f = './test/gams_real_problem/tanksize2.gms'\n",
    "# f = './test/gams_basic/flow_control/if-elseif-else.gms'\n",
    "# f = './test/gams_basic/flow_control/if-else.gms'\n",
    "\n",
    "with open(f, 'r') as in_file:\n",
    "    gp = GamsParser(in_file)\n",
    "\n",
    "parse_tree = gp.parse()\n",
    "# print(parse_tree.pretty())\n",
    "res = gp.transform()\n",
    "# print(res)"
   ]
  },
  {
   "cell_type": "code",
   "execution_count": 3,
   "metadata": {},
   "outputs": [],
   "source": [
    "with open('tmp/test.py', 'w') as file:\n",
    "    file.write(res)"
   ]
  },
  {
   "cell_type": "code",
   "execution_count": null,
   "metadata": {},
   "outputs": [],
   "source": [
    "x = parse_tree.children[0]\n",
    "x.children[0]"
   ]
  },
  {
   "attachments": {},
   "cell_type": "markdown",
   "metadata": {},
   "source": [
    "### test Pyomo grammar"
   ]
  },
  {
   "cell_type": "code",
   "execution_count": 14,
   "metadata": {},
   "outputs": [],
   "source": [
    "from pyomo.environ import *\n",
    "\n",
    "m = ConcreteModel()\n",
    "m.p = Param(initialize=1)\n",
    "m.pp = Param(mutable=True)\n",
    "\n",
    "m.pp = m.p._data"
   ]
  },
  {
   "cell_type": "code",
   "execution_count": 16,
   "metadata": {},
   "outputs": [
    {
     "name": "stdout",
     "output_type": "stream",
     "text": [
      "pp : Size=1, Index=None, Domain=Any, Default=None, Mutable=True\n",
      "    Key  : Value\n",
      "    None : {None: p}\n"
     ]
    }
   ],
   "source": [
    "# m.pp.pprint()\n",
    "m.pp.pprint()"
   ]
  }
 ],
 "metadata": {
  "kernelspec": {
   "display_name": "env",
   "language": "python",
   "name": "python3"
  },
  "language_info": {
   "codemirror_mode": {
    "name": "ipython",
    "version": 3
   },
   "file_extension": ".py",
   "mimetype": "text/x-python",
   "name": "python",
   "nbconvert_exporter": "python",
   "pygments_lexer": "ipython3",
   "version": "3.8.8 (default, Apr 13 2021, 12:59:45) \n[Clang 10.0.0 ]"
  },
  "orig_nbformat": 4,
  "vscode": {
   "interpreter": {
    "hash": "46a1e8ecdb898e9650f579cbd42d692c15b454f20ecd41658bdf8f03714ca2fc"
   }
  }
 },
 "nbformat": 4,
 "nbformat_minor": 2
}
