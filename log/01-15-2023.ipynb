{
 "cells": [
  {
   "attachments": {},
   "cell_type": "markdown",
   "metadata": {},
   "source": [
    "# Log 01-15-2023"
   ]
  },
  {
   "attachments": {},
   "cell_type": "markdown",
   "metadata": {},
   "source": [
    "## TODOs\n",
    "- [x] add header including file name\n",
    "- [ ] handle * in table"
   ]
  },
  {
   "attachments": {},
   "cell_type": "markdown",
   "metadata": {},
   "source": [
    "## Observations"
   ]
  },
  {
   "attachments": {},
   "cell_type": "markdown",
   "metadata": {},
   "source": [
    "### 11:49 Parse error by `a*i`"
   ]
  },
  {
   "attachments": {},
   "cell_type": "markdown",
   "metadata": {},
   "source": [
    "### 19:14 noticed other issues with parsing table\n",
    "some values were parsed as symbol_id instead of value\n",
    "\n",
    "And this issue does not occur every time....\n",
    "\n",
    "Solved by setting priority to value"
   ]
  },
  {
   "attachments": {},
   "cell_type": "markdown",
   "metadata": {},
   "source": [
    "## Code"
   ]
  },
  {
   "attachments": {},
   "cell_type": "markdown",
   "metadata": {},
   "source": [
    "### Header"
   ]
  },
  {
   "cell_type": "code",
   "execution_count": 1,
   "metadata": {},
   "outputs": [
    {
     "name": "stderr",
     "output_type": "stream",
     "text": [
      "WARNING:gams_translator.components:Not supported suffix type for display: '.m'\n"
     ]
    }
   ],
   "source": [
    "from gams2pyomo import GAMSTranslator\n",
    "\n",
    "f = './test/gams_model_library/trnsport.gms'\n",
    "\n",
    "gp = GAMSTranslator(f)\n",
    "\n",
    "tree = gp.parse()\n",
    "with open('tmp/tree', 'w') as file:\n",
    "    file.write(tree.pretty())\n",
    "\n",
    "res = gp.transform()\n",
    "with open('tmp/debug.py', 'w') as file:\n",
    "    file.write(res)"
   ]
  },
  {
   "attachments": {},
   "cell_type": "markdown",
   "metadata": {},
   "source": [
    "### table with star"
   ]
  },
  {
   "cell_type": "code",
   "execution_count": 1,
   "metadata": {},
   "outputs": [
    {
     "name": "stderr",
     "output_type": "stream",
     "text": [
      "WARNING:gams_translator.transformer:{('lead', 'a'): 10, ('lead', 'b'): 10, ('lead', 'c'): 40, ('lead', 'd'): 60, ('lead', 'e'): 30, ('lead', 'f'): 30, ('lead', 'g'): 30, ('lead', 'h'): 50, ('lead', 'i'): 20, ('zinc', 'a'): 10, ('zinc', 'b'): 30, ('zinc', 'c'): 50, ('zinc', 'd'): 30, ('zinc', 'e'): 30, ('zinc', 'f'): 40, ('zinc', 'g'): 20, ('zinc', 'h'): 40, ('zinc', 'i'): 30, ('tin', 'a'): 80, ('tin', 'b'): 60, ('tin', 'c'): 10, ('tin', 'd'): 10, ('tin', 'e'): 40, ('tin', 'f'): 30, ('tin', 'g'): 50, ('tin', 'h'): 10, ('tin', 'i'): 50, ('price', 'a'): 4.1, ('price', 'b'): 4.3, ('price', 'c'): 5.8, ('price', 'd'): 6, ('price', 'e'): 7.6, ('price', 'f'): 7.5, ('price', 'g'): 7.3, ('price', 'h'): 6.9, ('price', 'i'): 7.3}\n"
     ]
    }
   ],
   "source": [
    "from gams2pyomo import GAMSTranslator\n",
    "\n",
    "f = './test/gams_basic/table/star-index.gms'\n",
    "\n",
    "gp = GAMSTranslator(f)\n",
    "\n",
    "tree = gp.parse()\n",
    "with open('tmp/tree', 'w') as file:\n",
    "    file.write(tree.pretty())\n",
    "\n",
    "res = gp.transform()\n",
    "with open('tmp/debug.py', 'w') as file:\n",
    "    file.write(res)"
   ]
  },
  {
   "attachments": {},
   "cell_type": "markdown",
   "metadata": {},
   "source": [
    "### set with pure string range"
   ]
  },
  {
   "cell_type": "code",
   "execution_count": 2,
   "metadata": {},
   "outputs": [],
   "source": [
    "from gams2pyomo import GAMSTranslator\n",
    "\n",
    "f = './test/gams_basic/set/pure-string.gms'\n",
    "\n",
    "gp = GAMSTranslator(f)\n",
    "\n",
    "tree = gp.parse()\n",
    "with open('tmp/tree', 'w') as file:\n",
    "    file.write(tree.pretty())\n",
    "\n",
    "res = gp.transform()\n",
    "with open('tmp/debug.py', 'w') as file:\n",
    "    file.write(res)"
   ]
  }
 ],
 "metadata": {
  "kernelspec": {
   "display_name": "env",
   "language": "python",
   "name": "python3"
  },
  "language_info": {
   "codemirror_mode": {
    "name": "ipython",
    "version": 3
   },
   "file_extension": ".py",
   "mimetype": "text/x-python",
   "name": "python",
   "nbconvert_exporter": "python",
   "pygments_lexer": "ipython3",
   "version": "3.8.8"
  },
  "orig_nbformat": 4,
  "vscode": {
   "interpreter": {
    "hash": "46a1e8ecdb898e9650f579cbd42d692c15b454f20ecd41658bdf8f03714ca2fc"
   }
  }
 },
 "nbformat": 4,
 "nbformat_minor": 2
}
